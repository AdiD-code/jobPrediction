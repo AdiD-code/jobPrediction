{
  "nbformat": 4,
  "nbformat_minor": 0,
  "metadata": {
    "colab": {
      "provenance": []
    },
    "kernelspec": {
      "name": "python3",
      "display_name": "Python 3"
    },
    "language_info": {
      "name": "python"
    }
  },
  "cells": [
    {
      "cell_type": "code",
      "source": [
        "# Step 1: Import Libraries\n",
        "import numpy as np\n",
        "import pandas as pd\n",
        "import seaborn as sns\n",
        "import matplotlib.pyplot as plt\n",
        "from sklearn.impute import KNNImputer\n",
        "from sklearn.preprocessing import OneHotEncoder, StandardScaler\n",
        "from sklearn.model_selection import train_test_split\n",
        "from sklearn.naive_bayes import GaussianNB\n",
        "from sklearn.multiclass import OneVsRestClassifier\n",
        "from sklearn.metrics import accuracy_score, confusion_matrix, classification_report, roc_auc_score, roc_curve, auc\n",
        "import joblib"
      ],
      "metadata": {
        "id": "jX6JxwxEVY3R"
      },
      "execution_count": null,
      "outputs": []
    },
    {
      "cell_type": "code",
      "source": [
        "# Step 2: Load and Preprocess Data\n",
        "df_og = pd.read_csv(\"/content/one_hot.csv\")"
      ],
      "metadata": {
        "id": "aZ3amYTIVaQU"
      },
      "execution_count": null,
      "outputs": []
    },
    {
      "cell_type": "code",
      "source": [
        "# Display the first few rows of the original data\n",
        "print(\"Original DataFrame:\")\n",
        "print(df_og.head())"
      ],
      "metadata": {
        "colab": {
          "base_uri": "https://localhost:8080/"
        },
        "id": "1H_hQ2NVVfq2",
        "outputId": "7fb6ce76-8941-471b-dc2e-a403b5132bdb"
      },
      "execution_count": null,
      "outputs": [
        {
          "output_type": "stream",
          "name": "stdout",
          "text": [
            "Original DataFrame:\n",
            "                Name  # of Positions                  Degree  \\\n",
            "0  Vaishnavi Arolkar               5  Bachelor of Technology   \n",
            "1   Kundan Choudhary               0  Bachelor of Technology   \n",
            "2   Vikram Choudhary               2  Bachelor of Technology   \n",
            "3   Anushri Deshmukh               6  Bachelor of Technology   \n",
            "4         Raj Gandhi               3  Bachelor of Technology   \n",
            "\n",
            "                    Course                               College  CGPA  HSC  \\\n",
            "0  Electronics Engineering  Sardar Patel Institute of Technology  8.77  NaN   \n",
            "1  Electronics Engineering  Sardar Patel Institute of Technology  7.20  NaN   \n",
            "2  Electronics Engineering  Sardar Patel Institute of Technology  7.05  NaN   \n",
            "3  Electronics Engineering  Sardar Patel Institute of Technology  8.25  NaN   \n",
            "4  Electronics Engineering  Sardar Patel Institute of Technology  7.75  NaN   \n",
            "\n",
            "   SSC                                    Additional Info  # of tech skills  \\\n",
            "0  NaN  {'Key Values': {'cgpa': '8.77', 'skills': 'Tim...                13   \n",
            "1  NaN  {'Key Values': {}, 'Languages': [], 'Certifica...                 3   \n",
            "2  NaN  {'Key Values': {'cgpa': '7.05'}, 'Languages': ...                11   \n",
            "3  NaN  {'Key Values': {'skills': 'Python, Java, HTML,...                11   \n",
            "4  NaN  {'Key Values': {'skills': 'OOPs,'}, 'Languages...                 6   \n",
            "\n",
            "   ...  Public Relations Public Speaking Recruitment  Report Writing  \\\n",
            "0  ...                 0               0           0               0   \n",
            "1  ...                 0               0           0               0   \n",
            "2  ...                 0               0           0               0   \n",
            "3  ...                 0               0           0               0   \n",
            "4  ...                 0               0           0               0   \n",
            "\n",
            "   Risk Management  Sales  Strategic Planning  Team Building  Time Management  \\\n",
            "0                0      0                   0              0                1   \n",
            "1                0      1                   0              0                0   \n",
            "2                0      0                   0              0                0   \n",
            "3                0      0                   0              0                1   \n",
            "4                0      0                   0              0                0   \n",
            "\n",
            "   Vendor Management  \n",
            "0                  0  \n",
            "1                  0  \n",
            "2                  0  \n",
            "3                  0  \n",
            "4                  0  \n",
            "\n",
            "[5 rows x 114 columns]\n"
          ]
        }
      ]
    },
    {
      "cell_type": "code",
      "source": [
        "# Impute missing CGPA values using KNN Imputer\n",
        "imputer = KNNImputer(n_neighbors=5)\n",
        "df_og['CGPA'] = imputer.fit_transform(df_og[['CGPA']])"
      ],
      "metadata": {
        "id": "fH2J7XEDVhB1"
      },
      "execution_count": null,
      "outputs": []
    },
    {
      "cell_type": "code",
      "source": [
        "# Display the data after imputation\n",
        "print(\"\\nDataFrame after CGPA Imputation:\")\n",
        "print(df_og.head())"
      ],
      "metadata": {
        "colab": {
          "base_uri": "https://localhost:8080/"
        },
        "id": "azPv1hVBViuE",
        "outputId": "3c88b4a4-6d5a-4fa6-afa1-f016a03d2155"
      },
      "execution_count": null,
      "outputs": [
        {
          "output_type": "stream",
          "name": "stdout",
          "text": [
            "\n",
            "DataFrame after CGPA Imputation:\n",
            "                Name  # of Positions                  Degree  \\\n",
            "0  Vaishnavi Arolkar               5  Bachelor of Technology   \n",
            "1   Kundan Choudhary               0  Bachelor of Technology   \n",
            "2   Vikram Choudhary               2  Bachelor of Technology   \n",
            "3   Anushri Deshmukh               6  Bachelor of Technology   \n",
            "4         Raj Gandhi               3  Bachelor of Technology   \n",
            "\n",
            "                    Course                               College  CGPA  HSC  \\\n",
            "0  Electronics Engineering  Sardar Patel Institute of Technology  8.77  NaN   \n",
            "1  Electronics Engineering  Sardar Patel Institute of Technology  7.20  NaN   \n",
            "2  Electronics Engineering  Sardar Patel Institute of Technology  7.05  NaN   \n",
            "3  Electronics Engineering  Sardar Patel Institute of Technology  8.25  NaN   \n",
            "4  Electronics Engineering  Sardar Patel Institute of Technology  7.75  NaN   \n",
            "\n",
            "   SSC                                    Additional Info  # of tech skills  \\\n",
            "0  NaN  {'Key Values': {'cgpa': '8.77', 'skills': 'Tim...                13   \n",
            "1  NaN  {'Key Values': {}, 'Languages': [], 'Certifica...                 3   \n",
            "2  NaN  {'Key Values': {'cgpa': '7.05'}, 'Languages': ...                11   \n",
            "3  NaN  {'Key Values': {'skills': 'Python, Java, HTML,...                11   \n",
            "4  NaN  {'Key Values': {'skills': 'OOPs,'}, 'Languages...                 6   \n",
            "\n",
            "   ...  Public Relations Public Speaking Recruitment  Report Writing  \\\n",
            "0  ...                 0               0           0               0   \n",
            "1  ...                 0               0           0               0   \n",
            "2  ...                 0               0           0               0   \n",
            "3  ...                 0               0           0               0   \n",
            "4  ...                 0               0           0               0   \n",
            "\n",
            "   Risk Management  Sales  Strategic Planning  Team Building  Time Management  \\\n",
            "0                0      0                   0              0                1   \n",
            "1                0      1                   0              0                0   \n",
            "2                0      0                   0              0                0   \n",
            "3                0      0                   0              0                1   \n",
            "4                0      0                   0              0                0   \n",
            "\n",
            "   Vendor Management  \n",
            "0                  0  \n",
            "1                  0  \n",
            "2                  0  \n",
            "3                  0  \n",
            "4                  0  \n",
            "\n",
            "[5 rows x 114 columns]\n"
          ]
        }
      ]
    },
    {
      "cell_type": "code",
      "source": [
        "# Drop irrelevant columns\n",
        "df_og = df_og.drop(['College', 'HSC', 'SSC', 'Additional Info'], axis=1)"
      ],
      "metadata": {
        "id": "eDrudXfcVkQZ"
      },
      "execution_count": null,
      "outputs": []
    },
    {
      "cell_type": "code",
      "source": [
        "# Display the data after dropping columns\n",
        "print(\"\\nDataFrame after Dropping Irrelevant Columns:\")\n",
        "print(df_og.head())"
      ],
      "metadata": {
        "colab": {
          "base_uri": "https://localhost:8080/"
        },
        "id": "sFt2mVc9Vl32",
        "outputId": "9d3e9bbd-a5ff-43c4-f172-838f9766c6f1"
      },
      "execution_count": null,
      "outputs": [
        {
          "output_type": "stream",
          "name": "stdout",
          "text": [
            "\n",
            "DataFrame after Dropping Irrelevant Columns:\n",
            "                Name  # of Positions                  Degree  \\\n",
            "0  Vaishnavi Arolkar               5  Bachelor of Technology   \n",
            "1   Kundan Choudhary               0  Bachelor of Technology   \n",
            "2   Vikram Choudhary               2  Bachelor of Technology   \n",
            "3   Anushri Deshmukh               6  Bachelor of Technology   \n",
            "4         Raj Gandhi               3  Bachelor of Technology   \n",
            "\n",
            "                    Course  CGPA  # of tech skills  # of non tech skills  \\\n",
            "0  Electronics Engineering  8.77                13                     4   \n",
            "1  Electronics Engineering  7.20                 3                     1   \n",
            "2  Electronics Engineering  7.05                11                     0   \n",
            "3  Electronics Engineering  8.25                11                     4   \n",
            "4  Electronics Engineering  7.75                 6                     2   \n",
            "\n",
            "                   Role          Company  AI  ...  Public Relations  \\\n",
            "0                   SDE      Citius Tech   0  ...                 0   \n",
            "1                   SDE         Barclays   0  ...                 0   \n",
            "2               Analyst             KPMG   0  ...                 0   \n",
            "3  Associate Consultant           Oracle   0  ...                 0   \n",
            "4                   SDE  BNP Paribas CIB   0  ...                 0   \n",
            "\n",
            "   Public Speaking  Recruitment  Report Writing  Risk Management  Sales  \\\n",
            "0                0            0               0                0      0   \n",
            "1                0            0               0                0      1   \n",
            "2                0            0               0                0      0   \n",
            "3                0            0               0                0      0   \n",
            "4                0            0               0                0      0   \n",
            "\n",
            "   Strategic Planning  Team Building  Time Management  Vendor Management  \n",
            "0                   0              0                1                  0  \n",
            "1                   0              0                0                  0  \n",
            "2                   0              0                0                  0  \n",
            "3                   0              0                1                  0  \n",
            "4                   0              0                0                  0  \n",
            "\n",
            "[5 rows x 110 columns]\n"
          ]
        }
      ]
    },
    {
      "cell_type": "code",
      "source": [
        "# One-hot encode specific categorical columns\n",
        "columns_to_encode = ['Degree', 'Course']\n",
        "df_og = pd.get_dummies(df_og, columns=columns_to_encode, drop_first=False)"
      ],
      "metadata": {
        "id": "7SfUuMcFVnhH"
      },
      "execution_count": null,
      "outputs": []
    },
    {
      "cell_type": "code",
      "source": [
        "# Display the data after one-hot encoding\n",
        "print(\"\\nDataFrame after One-Hot Encoding:\")\n",
        "print(df_og.head())"
      ],
      "metadata": {
        "colab": {
          "base_uri": "https://localhost:8080/"
        },
        "id": "4XiPq9GAVpcT",
        "outputId": "a3cf6014-91b6-4383-b292-fc0a4d4b81eb"
      },
      "execution_count": null,
      "outputs": [
        {
          "output_type": "stream",
          "name": "stdout",
          "text": [
            "\n",
            "DataFrame after One-Hot Encoding:\n",
            "                Name  # of Positions  CGPA  # of tech skills  \\\n",
            "0  Vaishnavi Arolkar               5  8.77                13   \n",
            "1   Kundan Choudhary               0  7.20                 3   \n",
            "2   Vikram Choudhary               2  7.05                11   \n",
            "3   Anushri Deshmukh               6  8.25                11   \n",
            "4         Raj Gandhi               3  7.75                 6   \n",
            "\n",
            "   # of non tech skills                  Role          Company  AI  AWS  \\\n",
            "0                     4                   SDE      Citius Tech   0    0   \n",
            "1                     1                   SDE         Barclays   0    0   \n",
            "2                     0               Analyst             KPMG   0    0   \n",
            "3                     4  Associate Consultant           Oracle   0    0   \n",
            "4                     2                   SDE  BNP Paribas CIB   0    0   \n",
            "\n",
            "   Agile  ...  Sales  Strategic Planning  Team Building  Time Management  \\\n",
            "0      0  ...      0                   0              0                1   \n",
            "1      0  ...      1                   0              0                0   \n",
            "2      0  ...      0                   0              0                0   \n",
            "3      0  ...      0                   0              0                1   \n",
            "4      0  ...      0                   0              0                0   \n",
            "\n",
            "   Vendor Management  Degree_Bachelor of Technology  \\\n",
            "0                  0                           True   \n",
            "1                  0                           True   \n",
            "2                  0                           True   \n",
            "3                  0                           True   \n",
            "4                  0                           True   \n",
            "\n",
            "   Course_Computer Engineering  Course_Computer Networks  \\\n",
            "0                        False                     False   \n",
            "1                        False                     False   \n",
            "2                        False                     False   \n",
            "3                        False                     False   \n",
            "4                        False                     False   \n",
            "\n",
            "   Course_Computer Science and Engineering  Course_Electronics Engineering  \n",
            "0                                    False                            True  \n",
            "1                                    False                            True  \n",
            "2                                    False                            True  \n",
            "3                                    False                            True  \n",
            "4                                    False                            True  \n",
            "\n",
            "[5 rows x 113 columns]\n"
          ]
        }
      ]
    },
    {
      "cell_type": "code",
      "source": [
        "# Keep the original dataframe for final predictions\n",
        "df = df_og.drop(['Name'], axis=1)"
      ],
      "metadata": {
        "id": "M_Zbpec1VrFW"
      },
      "execution_count": null,
      "outputs": []
    },
    {
      "cell_type": "code",
      "source": [
        "# Duplicate data to increase size\n",
        "df_copy = df.copy()\n",
        "df = pd.concat([df, df_copy], ignore_index=True)"
      ],
      "metadata": {
        "id": "2qw1nF_HWAma"
      },
      "execution_count": null,
      "outputs": []
    },
    {
      "cell_type": "code",
      "source": [
        "# Step 3: Separate data for role and company prediction\n",
        "df_role = df.copy()\n",
        "df_role.dropna(subset=['Role'], inplace=True)\n",
        "df_company = df.copy()\n",
        "df_company.dropna(subset=['Company'], inplace=True)"
      ],
      "metadata": {
        "id": "94ib3hbHWDK3"
      },
      "execution_count": null,
      "outputs": []
    },
    {
      "cell_type": "code",
      "source": [
        "# Display the data after separating role and company prediction data\n",
        "print(\"\\nDataFrame for Role Prediction (after dropping missing 'Role'):\")\n",
        "print(df_role.head())\n",
        "print(\"\\nDataFrame for Company Prediction (after dropping missing 'Company'):\")\n",
        "print(df_company.head())"
      ],
      "metadata": {
        "colab": {
          "base_uri": "https://localhost:8080/"
        },
        "id": "fKXp6HvlWEyx",
        "outputId": "9d105169-a060-49a7-eb7e-56640a59c3b0"
      },
      "execution_count": null,
      "outputs": [
        {
          "output_type": "stream",
          "name": "stdout",
          "text": [
            "\n",
            "DataFrame for Role Prediction (after dropping missing 'Role'):\n",
            "   # of Positions  CGPA  # of tech skills  # of non tech skills  \\\n",
            "0               5  8.77                13                     4   \n",
            "1               0  7.20                 3                     1   \n",
            "2               2  7.05                11                     0   \n",
            "3               6  8.25                11                     4   \n",
            "4               3  7.75                 6                     2   \n",
            "\n",
            "                   Role          Company  AI  AWS  Agile  Amazon Web Services  \\\n",
            "0                   SDE      Citius Tech   0    0      0                    0   \n",
            "1                   SDE         Barclays   0    0      0                    0   \n",
            "2               Analyst             KPMG   0    0      0                    0   \n",
            "3  Associate Consultant           Oracle   0    0      0                    0   \n",
            "4                   SDE  BNP Paribas CIB   0    0      0                    0   \n",
            "\n",
            "   ...  Sales  Strategic Planning  Team Building  Time Management  \\\n",
            "0  ...      0                   0              0                1   \n",
            "1  ...      1                   0              0                0   \n",
            "2  ...      0                   0              0                0   \n",
            "3  ...      0                   0              0                1   \n",
            "4  ...      0                   0              0                0   \n",
            "\n",
            "   Vendor Management  Degree_Bachelor of Technology  \\\n",
            "0                  0                           True   \n",
            "1                  0                           True   \n",
            "2                  0                           True   \n",
            "3                  0                           True   \n",
            "4                  0                           True   \n",
            "\n",
            "   Course_Computer Engineering  Course_Computer Networks  \\\n",
            "0                        False                     False   \n",
            "1                        False                     False   \n",
            "2                        False                     False   \n",
            "3                        False                     False   \n",
            "4                        False                     False   \n",
            "\n",
            "   Course_Computer Science and Engineering  Course_Electronics Engineering  \n",
            "0                                    False                            True  \n",
            "1                                    False                            True  \n",
            "2                                    False                            True  \n",
            "3                                    False                            True  \n",
            "4                                    False                            True  \n",
            "\n",
            "[5 rows x 112 columns]\n",
            "\n",
            "DataFrame for Company Prediction (after dropping missing 'Company'):\n",
            "   # of Positions  CGPA  # of tech skills  # of non tech skills  \\\n",
            "0               5  8.77                13                     4   \n",
            "1               0  7.20                 3                     1   \n",
            "2               2  7.05                11                     0   \n",
            "3               6  8.25                11                     4   \n",
            "4               3  7.75                 6                     2   \n",
            "\n",
            "                   Role          Company  AI  AWS  Agile  Amazon Web Services  \\\n",
            "0                   SDE      Citius Tech   0    0      0                    0   \n",
            "1                   SDE         Barclays   0    0      0                    0   \n",
            "2               Analyst             KPMG   0    0      0                    0   \n",
            "3  Associate Consultant           Oracle   0    0      0                    0   \n",
            "4                   SDE  BNP Paribas CIB   0    0      0                    0   \n",
            "\n",
            "   ...  Sales  Strategic Planning  Team Building  Time Management  \\\n",
            "0  ...      0                   0              0                1   \n",
            "1  ...      1                   0              0                0   \n",
            "2  ...      0                   0              0                0   \n",
            "3  ...      0                   0              0                1   \n",
            "4  ...      0                   0              0                0   \n",
            "\n",
            "   Vendor Management  Degree_Bachelor of Technology  \\\n",
            "0                  0                           True   \n",
            "1                  0                           True   \n",
            "2                  0                           True   \n",
            "3                  0                           True   \n",
            "4                  0                           True   \n",
            "\n",
            "   Course_Computer Engineering  Course_Computer Networks  \\\n",
            "0                        False                     False   \n",
            "1                        False                     False   \n",
            "2                        False                     False   \n",
            "3                        False                     False   \n",
            "4                        False                     False   \n",
            "\n",
            "   Course_Computer Science and Engineering  Course_Electronics Engineering  \n",
            "0                                    False                            True  \n",
            "1                                    False                            True  \n",
            "2                                    False                            True  \n",
            "3                                    False                            True  \n",
            "4                                    False                            True  \n",
            "\n",
            "[5 rows x 112 columns]\n"
          ]
        }
      ]
    },
    {
      "cell_type": "code",
      "source": [
        "# Step 4: Separate features and target for both role and company predictions\n",
        "X_role = df_role.drop(['Role', 'Company'], axis=1)\n",
        "Y_role = df_role['Role']\n",
        "X_company = df_company.drop(['Role', 'Company'], axis=1)\n",
        "Y_company = df_company['Company']"
      ],
      "metadata": {
        "id": "sCmgs_s9WGoF"
      },
      "execution_count": null,
      "outputs": []
    },
    {
      "cell_type": "code",
      "source": [
        "# Display the feature and target data for role prediction\n",
        "print(\"\\nFeatures for Role Prediction:\")\n",
        "print(X_role.head())\n",
        "print(\"\\nTarget for Role Prediction:\")\n",
        "print(Y_role.head())"
      ],
      "metadata": {
        "colab": {
          "base_uri": "https://localhost:8080/"
        },
        "id": "WSokWszVWIZw",
        "outputId": "2c374c5a-01ee-448c-f64d-5c99dc311440"
      },
      "execution_count": null,
      "outputs": [
        {
          "output_type": "stream",
          "name": "stdout",
          "text": [
            "\n",
            "Features for Role Prediction:\n",
            "   # of Positions  CGPA  # of tech skills  # of non tech skills  AI  AWS  \\\n",
            "0               5  8.77                13                     4   0    0   \n",
            "1               0  7.20                 3                     1   0    0   \n",
            "2               2  7.05                11                     0   0    0   \n",
            "3               6  8.25                11                     4   0    0   \n",
            "4               3  7.75                 6                     2   0    0   \n",
            "\n",
            "   Agile  Amazon Web Services  Android Development  Apache  ...  Sales  \\\n",
            "0      0                    0                    0       1  ...      0   \n",
            "1      0                    0                    0       0  ...      1   \n",
            "2      0                    0                    0       0  ...      0   \n",
            "3      0                    0                    0       0  ...      0   \n",
            "4      0                    0                    0       0  ...      0   \n",
            "\n",
            "   Strategic Planning  Team Building  Time Management  Vendor Management  \\\n",
            "0                   0              0                1                  0   \n",
            "1                   0              0                0                  0   \n",
            "2                   0              0                0                  0   \n",
            "3                   0              0                1                  0   \n",
            "4                   0              0                0                  0   \n",
            "\n",
            "   Degree_Bachelor of Technology  Course_Computer Engineering  \\\n",
            "0                           True                        False   \n",
            "1                           True                        False   \n",
            "2                           True                        False   \n",
            "3                           True                        False   \n",
            "4                           True                        False   \n",
            "\n",
            "   Course_Computer Networks  Course_Computer Science and Engineering  \\\n",
            "0                     False                                    False   \n",
            "1                     False                                    False   \n",
            "2                     False                                    False   \n",
            "3                     False                                    False   \n",
            "4                     False                                    False   \n",
            "\n",
            "   Course_Electronics Engineering  \n",
            "0                            True  \n",
            "1                            True  \n",
            "2                            True  \n",
            "3                            True  \n",
            "4                            True  \n",
            "\n",
            "[5 rows x 110 columns]\n",
            "\n",
            "Target for Role Prediction:\n",
            "0                     SDE\n",
            "1                     SDE\n",
            "2                 Analyst\n",
            "3    Associate Consultant\n",
            "4                     SDE\n",
            "Name: Role, dtype: object\n"
          ]
        }
      ]
    },
    {
      "cell_type": "code",
      "source": [
        "# Step 5: Data Scaling and Encoding\n",
        "scaler = StandardScaler()\n",
        "X_role_scaled = scaler.fit_transform(X_role)\n",
        "X_company_scaled = scaler.fit_transform(X_company)"
      ],
      "metadata": {
        "id": "IJoVr2yNWKgt"
      },
      "execution_count": null,
      "outputs": []
    },
    {
      "cell_type": "code",
      "source": [
        "# Display scaled feature data\n",
        "print(\"\\nScaled Features for Role Prediction:\")\n",
        "print(pd.DataFrame(X_role_scaled, columns=X_role.columns).head())\n",
        "\n",
        "ohe_role = OneHotEncoder(sparse_output=False)\n",
        "Y_role_encoded = ohe_role.fit_transform(Y_role.values.reshape(-1, 1))\n",
        "\n",
        "ohe_company = OneHotEncoder(sparse_output=False)\n",
        "Y_company_encoded = ohe_company.fit_transform(Y_company.values.reshape(-1, 1))"
      ],
      "metadata": {
        "colab": {
          "base_uri": "https://localhost:8080/"
        },
        "id": "qkZvGgE_WMZV",
        "outputId": "1a8cbe6a-9d72-448f-8e8e-089ec347c936"
      },
      "execution_count": null,
      "outputs": [
        {
          "output_type": "stream",
          "name": "stdout",
          "text": [
            "\n",
            "Scaled Features for Role Prediction:\n",
            "   # of Positions      CGPA  # of tech skills  # of non tech skills        AI  \\\n",
            "0        0.760149  1.098379          0.494091              1.860181 -0.264575   \n",
            "1       -1.450067 -1.526107         -1.493418             -0.257259 -0.264575   \n",
            "2       -0.565980 -1.776854          0.096589             -0.963072 -0.264575   \n",
            "3        1.202192  0.229123          0.096589              1.860181 -0.264575   \n",
            "4       -0.123937 -0.606701         -0.897165              0.448554 -0.264575   \n",
            "\n",
            "        AWS     Agile  Amazon Web Services  Android Development    Apache  \\\n",
            "0 -0.338502 -0.197066            -0.338502            -0.097129  4.102845   \n",
            "1 -0.338502 -0.197066            -0.338502            -0.097129 -0.243733   \n",
            "2 -0.338502 -0.197066            -0.338502            -0.097129 -0.243733   \n",
            "3 -0.338502 -0.197066            -0.338502            -0.097129 -0.243733   \n",
            "4 -0.338502 -0.197066            -0.338502            -0.097129 -0.243733   \n",
            "\n",
            "   ...     Sales  Strategic Planning  Team Building  Time Management  \\\n",
            "0  ... -0.355409           -0.097129      -0.138013         4.102845   \n",
            "1  ...  2.813657           -0.097129      -0.138013        -0.243733   \n",
            "2  ... -0.355409           -0.097129      -0.138013        -0.243733   \n",
            "3  ... -0.355409           -0.097129      -0.138013         4.102845   \n",
            "4  ... -0.355409           -0.097129      -0.138013        -0.243733   \n",
            "\n",
            "   Vendor Management  Degree_Bachelor of Technology  \\\n",
            "0          -0.097129                            0.0   \n",
            "1          -0.097129                            0.0   \n",
            "2          -0.097129                            0.0   \n",
            "3          -0.097129                            0.0   \n",
            "4          -0.097129                            0.0   \n",
            "\n",
            "   Course_Computer Engineering  Course_Computer Networks  \\\n",
            "0                    -0.303046                 -0.097129   \n",
            "1                    -0.303046                 -0.097129   \n",
            "2                    -0.303046                 -0.097129   \n",
            "3                    -0.303046                 -0.097129   \n",
            "4                    -0.303046                 -0.097129   \n",
            "\n",
            "   Course_Computer Science and Engineering  Course_Electronics Engineering  \n",
            "0                                -0.138013                        0.355409  \n",
            "1                                -0.138013                        0.355409  \n",
            "2                                -0.138013                        0.355409  \n",
            "3                                -0.138013                        0.355409  \n",
            "4                                -0.138013                        0.355409  \n",
            "\n",
            "[5 rows x 110 columns]\n"
          ]
        }
      ]
    },
    {
      "cell_type": "code",
      "source": [
        "# Display the encoded target data for role prediction\n",
        "print(\"\\nEncoded Target for Role Prediction:\")\n",
        "print(pd.DataFrame(Y_role_encoded, columns=ohe_role.categories_[0]).head())"
      ],
      "metadata": {
        "colab": {
          "base_uri": "https://localhost:8080/"
        },
        "id": "KRLwD-fuWOA1",
        "outputId": "e52217b8-9d33-4c35-c8fe-5556a33fa528"
      },
      "execution_count": null,
      "outputs": [
        {
          "output_type": "stream",
          "name": "stdout",
          "text": [
            "\n",
            "Encoded Target for Role Prediction:\n",
            "   Analyst  Analyst   Application Developer  Application Support Specialist  \\\n",
            "0      0.0       0.0                    0.0                             0.0   \n",
            "1      0.0       0.0                    0.0                             0.0   \n",
            "2      1.0       0.0                    0.0                             0.0   \n",
            "3      0.0       0.0                    0.0                             0.0   \n",
            "4      0.0       0.0                    0.0                             0.0   \n",
            "\n",
            "   Assistant Product Manager  Associate Consultant  Associate Consultant   \\\n",
            "0                        0.0                   0.0                    0.0   \n",
            "1                        0.0                   0.0                    0.0   \n",
            "2                        0.0                   0.0                    0.0   \n",
            "3                        0.0                   1.0                    0.0   \n",
            "4                        0.0                   0.0                    0.0   \n",
            "\n",
            "   Associate Developer  Associate Developer   Associate SDE   ...  \\\n",
            "0                  0.0                   0.0             0.0  ...   \n",
            "1                  0.0                   0.0             0.0  ...   \n",
            "2                  0.0                   0.0             0.0  ...   \n",
            "3                  0.0                   0.0             0.0  ...   \n",
            "4                  0.0                   0.0             0.0  ...   \n",
            "\n",
            "   Software Engineer   Software Quality Assurance Engineer  \\\n",
            "0                 0.0                                  0.0   \n",
            "1                 0.0                                  0.0   \n",
            "2                 0.0                                  0.0   \n",
            "3                 0.0                                  0.0   \n",
            "4                 0.0                                  0.0   \n",
            "\n",
            "   Software developer   Technical Architect  Technology Analyst  \\\n",
            "0                  0.0                  0.0                 0.0   \n",
            "1                  0.0                  0.0                 0.0   \n",
            "2                  0.0                  0.0                 0.0   \n",
            "3                  0.0                  0.0                 0.0   \n",
            "4                  0.0                  0.0                 0.0   \n",
            "\n",
            "   Technology Analyst   Technology Analyst (SDE)  \\\n",
            "0                  0.0                       0.0   \n",
            "1                  0.0                       0.0   \n",
            "2                  0.0                       0.0   \n",
            "3                  0.0                       0.0   \n",
            "4                  0.0                       0.0   \n",
            "\n",
            "   Technology Graduate Developer   Technology Trainee  Technology analyst   \n",
            "0                             0.0                 0.0                  0.0  \n",
            "1                             0.0                 0.0                  0.0  \n",
            "2                             0.0                 0.0                  0.0  \n",
            "3                             0.0                 0.0                  0.0  \n",
            "4                             0.0                 0.0                  0.0  \n",
            "\n",
            "[5 rows x 46 columns]\n"
          ]
        }
      ]
    },
    {
      "cell_type": "code",
      "source": [
        "# Step 6: Train-test Split\n",
        "X_role_train, X_role_test, Y_role_train, Y_role_test = train_test_split(X_role_scaled, Y_role_encoded, test_size=0.2, random_state=42)\n",
        "X_company_train, X_company_test, Y_company_train, Y_company_test = train_test_split(X_company_scaled, Y_company_encoded, test_size=0.2, random_state=42)"
      ],
      "metadata": {
        "id": "RU4eanNpWTRn"
      },
      "execution_count": null,
      "outputs": []
    },
    {
      "cell_type": "code",
      "source": [
        "# Display the training and testing split data\n",
        "print(\"\\nTraining Features for Role Prediction:\")\n",
        "print(pd.DataFrame(X_role_train, columns=X_role.columns).head())\n",
        "print(\"\\nTesting Features for Role Prediction:\")\n",
        "print(pd.DataFrame(X_role_test, columns=X_role.columns).head())"
      ],
      "metadata": {
        "colab": {
          "base_uri": "https://localhost:8080/"
        },
        "id": "UYQ5MSY8WVJU",
        "outputId": "e21e3042-63d3-4831-e7af-deec304a9165"
      },
      "execution_count": null,
      "outputs": [
        {
          "output_type": "stream",
          "name": "stdout",
          "text": [
            "\n",
            "Training Features for Role Prediction:\n",
            "   # of Positions      CGPA  # of tech skills  # of non tech skills        AI  \\\n",
            "0       -0.565980  0.546736          0.295340             -0.257259 -0.264575   \n",
            "1        0.318106 -0.172073          0.494091              0.448554 -0.264575   \n",
            "2       -0.565980 -1.776854          0.096589             -0.963072 -0.264575   \n",
            "3       -0.565980  1.165245          0.096589              0.448554 -0.264575   \n",
            "4        2.970364 -2.696260         -0.897165              1.154368 -0.264575   \n",
            "\n",
            "        AWS     Agile  Amazon Web Services  Android Development    Apache  \\\n",
            "0 -0.338502 -0.197066            -0.338502            -0.097129 -0.243733   \n",
            "1 -0.338502 -0.197066            -0.338502            -0.097129 -0.243733   \n",
            "2 -0.338502 -0.197066            -0.338502            -0.097129 -0.243733   \n",
            "3 -0.338502 -0.197066            -0.338502            -0.097129 -0.243733   \n",
            "4 -0.338502 -0.197066            -0.338502            -0.097129 -0.243733   \n",
            "\n",
            "   ...     Sales  Strategic Planning  Team Building  Time Management  \\\n",
            "0  ... -0.355409           -0.097129      -0.138013        -0.243733   \n",
            "1  ... -0.355409           -0.097129      -0.138013        -0.243733   \n",
            "2  ... -0.355409           -0.097129      -0.138013        -0.243733   \n",
            "3  ...  2.813657           -0.097129      -0.138013        -0.243733   \n",
            "4  ...  2.813657           -0.097129      -0.138013        -0.243733   \n",
            "\n",
            "   Vendor Management  Degree_Bachelor of Technology  \\\n",
            "0          -0.097129                            0.0   \n",
            "1          -0.097129                            0.0   \n",
            "2          -0.097129                            0.0   \n",
            "3          -0.097129                            0.0   \n",
            "4          -0.097129                            0.0   \n",
            "\n",
            "   Course_Computer Engineering  Course_Computer Networks  \\\n",
            "0                    -0.303046                 -0.097129   \n",
            "1                    -0.303046                 -0.097129   \n",
            "2                    -0.303046                 -0.097129   \n",
            "3                    -0.303046                 -0.097129   \n",
            "4                     3.299832                 -0.097129   \n",
            "\n",
            "   Course_Computer Science and Engineering  Course_Electronics Engineering  \n",
            "0                                -0.138013                        0.355409  \n",
            "1                                -0.138013                        0.355409  \n",
            "2                                -0.138013                        0.355409  \n",
            "3                                -0.138013                        0.355409  \n",
            "4                                -0.138013                       -2.813657  \n",
            "\n",
            "[5 rows x 110 columns]\n",
            "\n",
            "Testing Features for Role Prediction:\n",
            "   # of Positions      CGPA  # of tech skills  # of non tech skills        AI  \\\n",
            "0        0.318106 -2.027601          0.692842             -0.257259  3.779645   \n",
            "1       -1.450067  0.058696          0.692842             -0.257259 -0.264575   \n",
            "2       -1.450067  0.058696         -1.890920             -0.963072 -0.264575   \n",
            "3       -1.008024 -0.957747          1.686596             -0.257259  3.779645   \n",
            "4        1.644235  0.814199         -0.300913              3.271808 -0.264575   \n",
            "\n",
            "        AWS     Agile  Amazon Web Services  Android Development    Apache  \\\n",
            "0 -0.338502 -0.197066            -0.338502            -0.097129 -0.243733   \n",
            "1 -0.338502 -0.197066            -0.338502            -0.097129 -0.243733   \n",
            "2 -0.338502 -0.197066            -0.338502            -0.097129 -0.243733   \n",
            "3  2.954196 -0.197066             2.954196            -0.097129 -0.243733   \n",
            "4  2.954196 -0.197066             2.954196            -0.097129 -0.243733   \n",
            "\n",
            "   ...     Sales  Strategic Planning  Team Building  Time Management  \\\n",
            "0  ... -0.355409           -0.097129      -0.138013        -0.243733   \n",
            "1  ... -0.355409           -0.097129      -0.138013        -0.243733   \n",
            "2  ... -0.355409           -0.097129      -0.138013        -0.243733   \n",
            "3  ... -0.355409           -0.097129      -0.138013        -0.243733   \n",
            "4  ... -0.355409           10.295630      -0.138013        -0.243733   \n",
            "\n",
            "   Vendor Management  Degree_Bachelor of Technology  \\\n",
            "0          -0.097129                            0.0   \n",
            "1          -0.097129                            0.0   \n",
            "2          -0.097129                            0.0   \n",
            "3          -0.097129                            0.0   \n",
            "4          -0.097129                            0.0   \n",
            "\n",
            "   Course_Computer Engineering  Course_Computer Networks  \\\n",
            "0                    -0.303046                 -0.097129   \n",
            "1                    -0.303046                 -0.097129   \n",
            "2                    -0.303046                 -0.097129   \n",
            "3                    -0.303046                 -0.097129   \n",
            "4                    -0.303046                 -0.097129   \n",
            "\n",
            "   Course_Computer Science and Engineering  Course_Electronics Engineering  \n",
            "0                                -0.138013                        0.355409  \n",
            "1                                -0.138013                        0.355409  \n",
            "2                                -0.138013                        0.355409  \n",
            "3                                -0.138013                        0.355409  \n",
            "4                                -0.138013                        0.355409  \n",
            "\n",
            "[5 rows x 110 columns]\n"
          ]
        }
      ]
    },
    {
      "cell_type": "code",
      "source": [
        "# Step 7: Train Gaussian Naive Bayes Model for Role and Company Prediction\n",
        "role_model = GaussianNB()\n",
        "role_model.fit(X_role_train, np.argmax(Y_role_train, axis=1))\n",
        "\n",
        "company_model = GaussianNB()\n",
        "company_model.fit(X_company_train, np.argmax(Y_company_train, axis=1))"
      ],
      "metadata": {
        "colab": {
          "base_uri": "https://localhost:8080/",
          "height": 80
        },
        "id": "sGft42I4WWw0",
        "outputId": "edddfb10-afc8-453e-842a-b48c8603452a"
      },
      "execution_count": null,
      "outputs": [
        {
          "output_type": "execute_result",
          "data": {
            "text/plain": [
              "GaussianNB()"
            ],
            "text/html": [
              "<style>#sk-container-id-1 {\n",
              "  /* Definition of color scheme common for light and dark mode */\n",
              "  --sklearn-color-text: black;\n",
              "  --sklearn-color-line: gray;\n",
              "  /* Definition of color scheme for unfitted estimators */\n",
              "  --sklearn-color-unfitted-level-0: #fff5e6;\n",
              "  --sklearn-color-unfitted-level-1: #f6e4d2;\n",
              "  --sklearn-color-unfitted-level-2: #ffe0b3;\n",
              "  --sklearn-color-unfitted-level-3: chocolate;\n",
              "  /* Definition of color scheme for fitted estimators */\n",
              "  --sklearn-color-fitted-level-0: #f0f8ff;\n",
              "  --sklearn-color-fitted-level-1: #d4ebff;\n",
              "  --sklearn-color-fitted-level-2: #b3dbfd;\n",
              "  --sklearn-color-fitted-level-3: cornflowerblue;\n",
              "\n",
              "  /* Specific color for light theme */\n",
              "  --sklearn-color-text-on-default-background: var(--sg-text-color, var(--theme-code-foreground, var(--jp-content-font-color1, black)));\n",
              "  --sklearn-color-background: var(--sg-background-color, var(--theme-background, var(--jp-layout-color0, white)));\n",
              "  --sklearn-color-border-box: var(--sg-text-color, var(--theme-code-foreground, var(--jp-content-font-color1, black)));\n",
              "  --sklearn-color-icon: #696969;\n",
              "\n",
              "  @media (prefers-color-scheme: dark) {\n",
              "    /* Redefinition of color scheme for dark theme */\n",
              "    --sklearn-color-text-on-default-background: var(--sg-text-color, var(--theme-code-foreground, var(--jp-content-font-color1, white)));\n",
              "    --sklearn-color-background: var(--sg-background-color, var(--theme-background, var(--jp-layout-color0, #111)));\n",
              "    --sklearn-color-border-box: var(--sg-text-color, var(--theme-code-foreground, var(--jp-content-font-color1, white)));\n",
              "    --sklearn-color-icon: #878787;\n",
              "  }\n",
              "}\n",
              "\n",
              "#sk-container-id-1 {\n",
              "  color: var(--sklearn-color-text);\n",
              "}\n",
              "\n",
              "#sk-container-id-1 pre {\n",
              "  padding: 0;\n",
              "}\n",
              "\n",
              "#sk-container-id-1 input.sk-hidden--visually {\n",
              "  border: 0;\n",
              "  clip: rect(1px 1px 1px 1px);\n",
              "  clip: rect(1px, 1px, 1px, 1px);\n",
              "  height: 1px;\n",
              "  margin: -1px;\n",
              "  overflow: hidden;\n",
              "  padding: 0;\n",
              "  position: absolute;\n",
              "  width: 1px;\n",
              "}\n",
              "\n",
              "#sk-container-id-1 div.sk-dashed-wrapped {\n",
              "  border: 1px dashed var(--sklearn-color-line);\n",
              "  margin: 0 0.4em 0.5em 0.4em;\n",
              "  box-sizing: border-box;\n",
              "  padding-bottom: 0.4em;\n",
              "  background-color: var(--sklearn-color-background);\n",
              "}\n",
              "\n",
              "#sk-container-id-1 div.sk-container {\n",
              "  /* jupyter's `normalize.less` sets `[hidden] { display: none; }`\n",
              "     but bootstrap.min.css set `[hidden] { display: none !important; }`\n",
              "     so we also need the `!important` here to be able to override the\n",
              "     default hidden behavior on the sphinx rendered scikit-learn.org.\n",
              "     See: https://github.com/scikit-learn/scikit-learn/issues/21755 */\n",
              "  display: inline-block !important;\n",
              "  position: relative;\n",
              "}\n",
              "\n",
              "#sk-container-id-1 div.sk-text-repr-fallback {\n",
              "  display: none;\n",
              "}\n",
              "\n",
              "div.sk-parallel-item,\n",
              "div.sk-serial,\n",
              "div.sk-item {\n",
              "  /* draw centered vertical line to link estimators */\n",
              "  background-image: linear-gradient(var(--sklearn-color-text-on-default-background), var(--sklearn-color-text-on-default-background));\n",
              "  background-size: 2px 100%;\n",
              "  background-repeat: no-repeat;\n",
              "  background-position: center center;\n",
              "}\n",
              "\n",
              "/* Parallel-specific style estimator block */\n",
              "\n",
              "#sk-container-id-1 div.sk-parallel-item::after {\n",
              "  content: \"\";\n",
              "  width: 100%;\n",
              "  border-bottom: 2px solid var(--sklearn-color-text-on-default-background);\n",
              "  flex-grow: 1;\n",
              "}\n",
              "\n",
              "#sk-container-id-1 div.sk-parallel {\n",
              "  display: flex;\n",
              "  align-items: stretch;\n",
              "  justify-content: center;\n",
              "  background-color: var(--sklearn-color-background);\n",
              "  position: relative;\n",
              "}\n",
              "\n",
              "#sk-container-id-1 div.sk-parallel-item {\n",
              "  display: flex;\n",
              "  flex-direction: column;\n",
              "}\n",
              "\n",
              "#sk-container-id-1 div.sk-parallel-item:first-child::after {\n",
              "  align-self: flex-end;\n",
              "  width: 50%;\n",
              "}\n",
              "\n",
              "#sk-container-id-1 div.sk-parallel-item:last-child::after {\n",
              "  align-self: flex-start;\n",
              "  width: 50%;\n",
              "}\n",
              "\n",
              "#sk-container-id-1 div.sk-parallel-item:only-child::after {\n",
              "  width: 0;\n",
              "}\n",
              "\n",
              "/* Serial-specific style estimator block */\n",
              "\n",
              "#sk-container-id-1 div.sk-serial {\n",
              "  display: flex;\n",
              "  flex-direction: column;\n",
              "  align-items: center;\n",
              "  background-color: var(--sklearn-color-background);\n",
              "  padding-right: 1em;\n",
              "  padding-left: 1em;\n",
              "}\n",
              "\n",
              "\n",
              "/* Toggleable style: style used for estimator/Pipeline/ColumnTransformer box that is\n",
              "clickable and can be expanded/collapsed.\n",
              "- Pipeline and ColumnTransformer use this feature and define the default style\n",
              "- Estimators will overwrite some part of the style using the `sk-estimator` class\n",
              "*/\n",
              "\n",
              "/* Pipeline and ColumnTransformer style (default) */\n",
              "\n",
              "#sk-container-id-1 div.sk-toggleable {\n",
              "  /* Default theme specific background. It is overwritten whether we have a\n",
              "  specific estimator or a Pipeline/ColumnTransformer */\n",
              "  background-color: var(--sklearn-color-background);\n",
              "}\n",
              "\n",
              "/* Toggleable label */\n",
              "#sk-container-id-1 label.sk-toggleable__label {\n",
              "  cursor: pointer;\n",
              "  display: block;\n",
              "  width: 100%;\n",
              "  margin-bottom: 0;\n",
              "  padding: 0.5em;\n",
              "  box-sizing: border-box;\n",
              "  text-align: center;\n",
              "}\n",
              "\n",
              "#sk-container-id-1 label.sk-toggleable__label-arrow:before {\n",
              "  /* Arrow on the left of the label */\n",
              "  content: \"▸\";\n",
              "  float: left;\n",
              "  margin-right: 0.25em;\n",
              "  color: var(--sklearn-color-icon);\n",
              "}\n",
              "\n",
              "#sk-container-id-1 label.sk-toggleable__label-arrow:hover:before {\n",
              "  color: var(--sklearn-color-text);\n",
              "}\n",
              "\n",
              "/* Toggleable content - dropdown */\n",
              "\n",
              "#sk-container-id-1 div.sk-toggleable__content {\n",
              "  max-height: 0;\n",
              "  max-width: 0;\n",
              "  overflow: hidden;\n",
              "  text-align: left;\n",
              "  /* unfitted */\n",
              "  background-color: var(--sklearn-color-unfitted-level-0);\n",
              "}\n",
              "\n",
              "#sk-container-id-1 div.sk-toggleable__content.fitted {\n",
              "  /* fitted */\n",
              "  background-color: var(--sklearn-color-fitted-level-0);\n",
              "}\n",
              "\n",
              "#sk-container-id-1 div.sk-toggleable__content pre {\n",
              "  margin: 0.2em;\n",
              "  border-radius: 0.25em;\n",
              "  color: var(--sklearn-color-text);\n",
              "  /* unfitted */\n",
              "  background-color: var(--sklearn-color-unfitted-level-0);\n",
              "}\n",
              "\n",
              "#sk-container-id-1 div.sk-toggleable__content.fitted pre {\n",
              "  /* unfitted */\n",
              "  background-color: var(--sklearn-color-fitted-level-0);\n",
              "}\n",
              "\n",
              "#sk-container-id-1 input.sk-toggleable__control:checked~div.sk-toggleable__content {\n",
              "  /* Expand drop-down */\n",
              "  max-height: 200px;\n",
              "  max-width: 100%;\n",
              "  overflow: auto;\n",
              "}\n",
              "\n",
              "#sk-container-id-1 input.sk-toggleable__control:checked~label.sk-toggleable__label-arrow:before {\n",
              "  content: \"▾\";\n",
              "}\n",
              "\n",
              "/* Pipeline/ColumnTransformer-specific style */\n",
              "\n",
              "#sk-container-id-1 div.sk-label input.sk-toggleable__control:checked~label.sk-toggleable__label {\n",
              "  color: var(--sklearn-color-text);\n",
              "  background-color: var(--sklearn-color-unfitted-level-2);\n",
              "}\n",
              "\n",
              "#sk-container-id-1 div.sk-label.fitted input.sk-toggleable__control:checked~label.sk-toggleable__label {\n",
              "  background-color: var(--sklearn-color-fitted-level-2);\n",
              "}\n",
              "\n",
              "/* Estimator-specific style */\n",
              "\n",
              "/* Colorize estimator box */\n",
              "#sk-container-id-1 div.sk-estimator input.sk-toggleable__control:checked~label.sk-toggleable__label {\n",
              "  /* unfitted */\n",
              "  background-color: var(--sklearn-color-unfitted-level-2);\n",
              "}\n",
              "\n",
              "#sk-container-id-1 div.sk-estimator.fitted input.sk-toggleable__control:checked~label.sk-toggleable__label {\n",
              "  /* fitted */\n",
              "  background-color: var(--sklearn-color-fitted-level-2);\n",
              "}\n",
              "\n",
              "#sk-container-id-1 div.sk-label label.sk-toggleable__label,\n",
              "#sk-container-id-1 div.sk-label label {\n",
              "  /* The background is the default theme color */\n",
              "  color: var(--sklearn-color-text-on-default-background);\n",
              "}\n",
              "\n",
              "/* On hover, darken the color of the background */\n",
              "#sk-container-id-1 div.sk-label:hover label.sk-toggleable__label {\n",
              "  color: var(--sklearn-color-text);\n",
              "  background-color: var(--sklearn-color-unfitted-level-2);\n",
              "}\n",
              "\n",
              "/* Label box, darken color on hover, fitted */\n",
              "#sk-container-id-1 div.sk-label.fitted:hover label.sk-toggleable__label.fitted {\n",
              "  color: var(--sklearn-color-text);\n",
              "  background-color: var(--sklearn-color-fitted-level-2);\n",
              "}\n",
              "\n",
              "/* Estimator label */\n",
              "\n",
              "#sk-container-id-1 div.sk-label label {\n",
              "  font-family: monospace;\n",
              "  font-weight: bold;\n",
              "  display: inline-block;\n",
              "  line-height: 1.2em;\n",
              "}\n",
              "\n",
              "#sk-container-id-1 div.sk-label-container {\n",
              "  text-align: center;\n",
              "}\n",
              "\n",
              "/* Estimator-specific */\n",
              "#sk-container-id-1 div.sk-estimator {\n",
              "  font-family: monospace;\n",
              "  border: 1px dotted var(--sklearn-color-border-box);\n",
              "  border-radius: 0.25em;\n",
              "  box-sizing: border-box;\n",
              "  margin-bottom: 0.5em;\n",
              "  /* unfitted */\n",
              "  background-color: var(--sklearn-color-unfitted-level-0);\n",
              "}\n",
              "\n",
              "#sk-container-id-1 div.sk-estimator.fitted {\n",
              "  /* fitted */\n",
              "  background-color: var(--sklearn-color-fitted-level-0);\n",
              "}\n",
              "\n",
              "/* on hover */\n",
              "#sk-container-id-1 div.sk-estimator:hover {\n",
              "  /* unfitted */\n",
              "  background-color: var(--sklearn-color-unfitted-level-2);\n",
              "}\n",
              "\n",
              "#sk-container-id-1 div.sk-estimator.fitted:hover {\n",
              "  /* fitted */\n",
              "  background-color: var(--sklearn-color-fitted-level-2);\n",
              "}\n",
              "\n",
              "/* Specification for estimator info (e.g. \"i\" and \"?\") */\n",
              "\n",
              "/* Common style for \"i\" and \"?\" */\n",
              "\n",
              ".sk-estimator-doc-link,\n",
              "a:link.sk-estimator-doc-link,\n",
              "a:visited.sk-estimator-doc-link {\n",
              "  float: right;\n",
              "  font-size: smaller;\n",
              "  line-height: 1em;\n",
              "  font-family: monospace;\n",
              "  background-color: var(--sklearn-color-background);\n",
              "  border-radius: 1em;\n",
              "  height: 1em;\n",
              "  width: 1em;\n",
              "  text-decoration: none !important;\n",
              "  margin-left: 1ex;\n",
              "  /* unfitted */\n",
              "  border: var(--sklearn-color-unfitted-level-1) 1pt solid;\n",
              "  color: var(--sklearn-color-unfitted-level-1);\n",
              "}\n",
              "\n",
              ".sk-estimator-doc-link.fitted,\n",
              "a:link.sk-estimator-doc-link.fitted,\n",
              "a:visited.sk-estimator-doc-link.fitted {\n",
              "  /* fitted */\n",
              "  border: var(--sklearn-color-fitted-level-1) 1pt solid;\n",
              "  color: var(--sklearn-color-fitted-level-1);\n",
              "}\n",
              "\n",
              "/* On hover */\n",
              "div.sk-estimator:hover .sk-estimator-doc-link:hover,\n",
              ".sk-estimator-doc-link:hover,\n",
              "div.sk-label-container:hover .sk-estimator-doc-link:hover,\n",
              ".sk-estimator-doc-link:hover {\n",
              "  /* unfitted */\n",
              "  background-color: var(--sklearn-color-unfitted-level-3);\n",
              "  color: var(--sklearn-color-background);\n",
              "  text-decoration: none;\n",
              "}\n",
              "\n",
              "div.sk-estimator.fitted:hover .sk-estimator-doc-link.fitted:hover,\n",
              ".sk-estimator-doc-link.fitted:hover,\n",
              "div.sk-label-container:hover .sk-estimator-doc-link.fitted:hover,\n",
              ".sk-estimator-doc-link.fitted:hover {\n",
              "  /* fitted */\n",
              "  background-color: var(--sklearn-color-fitted-level-3);\n",
              "  color: var(--sklearn-color-background);\n",
              "  text-decoration: none;\n",
              "}\n",
              "\n",
              "/* Span, style for the box shown on hovering the info icon */\n",
              ".sk-estimator-doc-link span {\n",
              "  display: none;\n",
              "  z-index: 9999;\n",
              "  position: relative;\n",
              "  font-weight: normal;\n",
              "  right: .2ex;\n",
              "  padding: .5ex;\n",
              "  margin: .5ex;\n",
              "  width: min-content;\n",
              "  min-width: 20ex;\n",
              "  max-width: 50ex;\n",
              "  color: var(--sklearn-color-text);\n",
              "  box-shadow: 2pt 2pt 4pt #999;\n",
              "  /* unfitted */\n",
              "  background: var(--sklearn-color-unfitted-level-0);\n",
              "  border: .5pt solid var(--sklearn-color-unfitted-level-3);\n",
              "}\n",
              "\n",
              ".sk-estimator-doc-link.fitted span {\n",
              "  /* fitted */\n",
              "  background: var(--sklearn-color-fitted-level-0);\n",
              "  border: var(--sklearn-color-fitted-level-3);\n",
              "}\n",
              "\n",
              ".sk-estimator-doc-link:hover span {\n",
              "  display: block;\n",
              "}\n",
              "\n",
              "/* \"?\"-specific style due to the `<a>` HTML tag */\n",
              "\n",
              "#sk-container-id-1 a.estimator_doc_link {\n",
              "  float: right;\n",
              "  font-size: 1rem;\n",
              "  line-height: 1em;\n",
              "  font-family: monospace;\n",
              "  background-color: var(--sklearn-color-background);\n",
              "  border-radius: 1rem;\n",
              "  height: 1rem;\n",
              "  width: 1rem;\n",
              "  text-decoration: none;\n",
              "  /* unfitted */\n",
              "  color: var(--sklearn-color-unfitted-level-1);\n",
              "  border: var(--sklearn-color-unfitted-level-1) 1pt solid;\n",
              "}\n",
              "\n",
              "#sk-container-id-1 a.estimator_doc_link.fitted {\n",
              "  /* fitted */\n",
              "  border: var(--sklearn-color-fitted-level-1) 1pt solid;\n",
              "  color: var(--sklearn-color-fitted-level-1);\n",
              "}\n",
              "\n",
              "/* On hover */\n",
              "#sk-container-id-1 a.estimator_doc_link:hover {\n",
              "  /* unfitted */\n",
              "  background-color: var(--sklearn-color-unfitted-level-3);\n",
              "  color: var(--sklearn-color-background);\n",
              "  text-decoration: none;\n",
              "}\n",
              "\n",
              "#sk-container-id-1 a.estimator_doc_link.fitted:hover {\n",
              "  /* fitted */\n",
              "  background-color: var(--sklearn-color-fitted-level-3);\n",
              "}\n",
              "</style><div id=\"sk-container-id-1\" class=\"sk-top-container\"><div class=\"sk-text-repr-fallback\"><pre>GaussianNB()</pre><b>In a Jupyter environment, please rerun this cell to show the HTML representation or trust the notebook. <br />On GitHub, the HTML representation is unable to render, please try loading this page with nbviewer.org.</b></div><div class=\"sk-container\" hidden><div class=\"sk-item\"><div class=\"sk-estimator fitted sk-toggleable\"><input class=\"sk-toggleable__control sk-hidden--visually\" id=\"sk-estimator-id-1\" type=\"checkbox\" checked><label for=\"sk-estimator-id-1\" class=\"sk-toggleable__label fitted sk-toggleable__label-arrow fitted\">&nbsp;&nbsp;GaussianNB<a class=\"sk-estimator-doc-link fitted\" rel=\"noreferrer\" target=\"_blank\" href=\"https://scikit-learn.org/1.5/modules/generated/sklearn.naive_bayes.GaussianNB.html\">?<span>Documentation for GaussianNB</span></a><span class=\"sk-estimator-doc-link fitted\">i<span>Fitted</span></span></label><div class=\"sk-toggleable__content fitted\"><pre>GaussianNB()</pre></div> </div></div></div></div>"
            ]
          },
          "metadata": {},
          "execution_count": 21
        }
      ]
    },
    {
      "cell_type": "code",
      "source": [
        "# Step 8: Evaluate Model Performance\n",
        "# Role Predictions\n",
        "role_predictions = role_model.predict(X_role_test)\n",
        "role_accuracy = accuracy_score(np.argmax(Y_role_test, axis=1), role_predictions)\n",
        "role_conf_matrix = confusion_matrix(np.argmax(Y_role_test, axis=1), role_predictions)\n",
        "role_class_report = classification_report(np.argmax(Y_role_test, axis=1), role_predictions)"
      ],
      "metadata": {
        "colab": {
          "base_uri": "https://localhost:8080/"
        },
        "id": "y_ttxGuTWdMK",
        "outputId": "577bc02f-cf18-4a46-fd28-0a4bf858bf23"
      },
      "execution_count": null,
      "outputs": [
        {
          "output_type": "stream",
          "name": "stderr",
          "text": [
            "/usr/local/lib/python3.10/dist-packages/sklearn/metrics/_classification.py:1531: UndefinedMetricWarning: Precision is ill-defined and being set to 0.0 in labels with no predicted samples. Use `zero_division` parameter to control this behavior.\n",
            "  _warn_prf(average, modifier, f\"{metric.capitalize()} is\", len(result))\n",
            "/usr/local/lib/python3.10/dist-packages/sklearn/metrics/_classification.py:1531: UndefinedMetricWarning: Recall is ill-defined and being set to 0.0 in labels with no true samples. Use `zero_division` parameter to control this behavior.\n",
            "  _warn_prf(average, modifier, f\"{metric.capitalize()} is\", len(result))\n",
            "/usr/local/lib/python3.10/dist-packages/sklearn/metrics/_classification.py:1531: UndefinedMetricWarning: Precision is ill-defined and being set to 0.0 in labels with no predicted samples. Use `zero_division` parameter to control this behavior.\n",
            "  _warn_prf(average, modifier, f\"{metric.capitalize()} is\", len(result))\n",
            "/usr/local/lib/python3.10/dist-packages/sklearn/metrics/_classification.py:1531: UndefinedMetricWarning: Recall is ill-defined and being set to 0.0 in labels with no true samples. Use `zero_division` parameter to control this behavior.\n",
            "  _warn_prf(average, modifier, f\"{metric.capitalize()} is\", len(result))\n",
            "/usr/local/lib/python3.10/dist-packages/sklearn/metrics/_classification.py:1531: UndefinedMetricWarning: Precision is ill-defined and being set to 0.0 in labels with no predicted samples. Use `zero_division` parameter to control this behavior.\n",
            "  _warn_prf(average, modifier, f\"{metric.capitalize()} is\", len(result))\n",
            "/usr/local/lib/python3.10/dist-packages/sklearn/metrics/_classification.py:1531: UndefinedMetricWarning: Recall is ill-defined and being set to 0.0 in labels with no true samples. Use `zero_division` parameter to control this behavior.\n",
            "  _warn_prf(average, modifier, f\"{metric.capitalize()} is\", len(result))\n"
          ]
        }
      ]
    },
    {
      "cell_type": "code",
      "source": [
        "print(f\"\\nRole Prediction Accuracy: {role_accuracy}\")"
      ],
      "metadata": {
        "colab": {
          "base_uri": "https://localhost:8080/"
        },
        "id": "nVonQUVLWfDI",
        "outputId": "bd955b27-9c1d-446b-c901-86481a23b908"
      },
      "execution_count": null,
      "outputs": [
        {
          "output_type": "stream",
          "name": "stdout",
          "text": [
            "\n",
            "Role Prediction Accuracy: 0.6046511627906976\n"
          ]
        }
      ]
    },
    {
      "cell_type": "code",
      "source": [
        "print(f\"\\nConfusion Matrix for Role Prediction:\\n {role_conf_matrix}\")"
      ],
      "metadata": {
        "colab": {
          "base_uri": "https://localhost:8080/"
        },
        "id": "8fVqsSPdWgw-",
        "outputId": "dfc1342f-b882-495a-d085-ec9ee3a933f9"
      },
      "execution_count": null,
      "outputs": [
        {
          "output_type": "stream",
          "name": "stdout",
          "text": [
            "\n",
            "Confusion Matrix for Role Prediction:\n",
            " [[3 0 0 0 0 1 0 0 0 0 0 0 0 0 0 0 0 0 0 0 0 0 0 0 0 0]\n",
            " [0 1 0 0 0 0 0 0 0 0 0 0 0 0 0 1 0 0 0 0 0 0 0 0 0 0]\n",
            " [0 0 1 0 0 0 0 0 0 0 0 0 0 0 0 0 0 0 0 0 0 0 0 0 0 0]\n",
            " [0 0 0 1 0 0 0 0 0 0 0 0 0 0 0 0 0 0 0 0 0 0 0 0 0 0]\n",
            " [0 0 0 0 0 0 0 0 0 0 0 0 0 0 0 0 0 0 0 0 0 0 0 0 0 0]\n",
            " [0 0 0 0 1 2 0 0 0 0 0 0 0 0 0 0 0 0 0 0 0 0 0 0 0 0]\n",
            " [0 0 0 0 0 0 0 0 0 0 0 0 0 0 0 0 0 0 0 2 0 0 0 0 0 0]\n",
            " [0 0 0 0 0 0 0 1 0 0 0 0 0 0 0 0 0 0 0 0 0 0 0 0 0 0]\n",
            " [0 0 0 0 0 0 0 0 0 0 0 0 0 0 0 0 0 0 0 0 0 0 2 0 0 0]\n",
            " [0 0 0 0 0 0 0 0 0 0 0 0 0 0 0 0 0 0 0 0 0 0 2 0 0 0]\n",
            " [0 0 0 0 0 0 0 0 0 0 1 0 0 0 0 0 0 0 0 0 0 0 0 0 0 0]\n",
            " [0 0 0 0 0 0 0 0 0 0 0 2 0 0 0 0 0 0 0 0 0 0 0 0 0 0]\n",
            " [0 0 0 0 0 0 0 0 0 0 0 0 1 0 0 0 0 0 0 0 0 0 0 0 0 0]\n",
            " [0 0 0 0 0 0 0 0 0 0 0 0 0 1 0 0 0 0 0 0 0 0 0 0 0 0]\n",
            " [0 0 0 0 0 0 0 0 0 0 0 0 0 0 0 0 0 2 0 0 0 0 0 0 0 0]\n",
            " [0 0 0 0 0 0 0 0 0 0 0 0 0 0 0 0 0 0 0 0 0 0 0 0 0 0]\n",
            " [0 0 0 0 0 0 0 0 0 0 0 0 0 0 0 0 0 0 0 2 0 0 0 0 0 0]\n",
            " [0 0 0 0 0 0 0 0 0 0 0 0 0 0 0 0 0 0 0 0 0 0 0 0 0 0]\n",
            " [0 0 0 0 0 0 0 0 0 0 0 0 0 0 0 0 0 0 1 0 0 0 0 0 0 0]\n",
            " [1 0 0 0 0 0 0 0 0 0 0 0 0 0 0 1 0 0 0 6 0 0 1 0 0 0]\n",
            " [0 0 0 0 0 0 0 0 0 0 0 0 0 0 0 0 0 0 0 0 1 0 0 0 0 0]\n",
            " [0 0 0 0 0 0 0 0 0 0 0 0 0 0 0 0 0 0 0 0 0 1 0 0 0 0]\n",
            " [0 0 0 0 0 0 0 0 0 0 0 0 0 0 0 1 0 0 0 0 0 0 0 0 0 0]\n",
            " [0 0 0 0 0 0 0 0 0 0 0 0 0 0 0 0 0 0 0 0 0 0 0 1 0 0]\n",
            " [0 0 0 0 0 0 0 0 0 0 0 0 0 0 0 0 0 0 0 0 0 0 0 0 1 0]\n",
            " [0 0 0 0 0 0 0 0 0 0 0 0 0 0 0 0 0 0 0 0 0 0 0 0 0 1]]\n"
          ]
        }
      ]
    },
    {
      "cell_type": "code",
      "source": [
        "print(f\"\\nClassification Report for Role Prediction:\\n {role_class_report}\")"
      ],
      "metadata": {
        "colab": {
          "base_uri": "https://localhost:8080/"
        },
        "id": "NTxLfdSEWjjG",
        "outputId": "9fcc7f31-3259-44d7-864d-8fc404815885"
      },
      "execution_count": null,
      "outputs": [
        {
          "output_type": "stream",
          "name": "stdout",
          "text": [
            "\n",
            "Classification Report for Role Prediction:\n",
            "               precision    recall  f1-score   support\n",
            "\n",
            "           0       0.75      0.75      0.75         4\n",
            "           1       1.00      0.50      0.67         2\n",
            "           3       1.00      1.00      1.00         1\n",
            "           4       1.00      1.00      1.00         1\n",
            "           5       0.00      0.00      0.00         0\n",
            "           6       0.67      0.67      0.67         3\n",
            "           7       0.00      0.00      0.00         2\n",
            "           8       1.00      1.00      1.00         1\n",
            "           9       0.00      0.00      0.00         2\n",
            "          11       0.00      0.00      0.00         2\n",
            "          12       1.00      1.00      1.00         1\n",
            "          15       1.00      1.00      1.00         2\n",
            "          17       1.00      1.00      1.00         1\n",
            "          18       1.00      1.00      1.00         1\n",
            "          20       0.00      0.00      0.00         2\n",
            "          22       0.00      0.00      0.00         0\n",
            "          27       0.00      0.00      0.00         2\n",
            "          28       0.00      0.00      0.00         0\n",
            "          29       1.00      1.00      1.00         1\n",
            "          31       0.60      0.67      0.63         9\n",
            "          32       1.00      1.00      1.00         1\n",
            "          34       1.00      1.00      1.00         1\n",
            "          35       0.00      0.00      0.00         1\n",
            "          38       1.00      1.00      1.00         1\n",
            "          44       1.00      1.00      1.00         1\n",
            "          45       1.00      1.00      1.00         1\n",
            "\n",
            "    accuracy                           0.60        43\n",
            "   macro avg       0.62      0.60      0.60        43\n",
            "weighted avg       0.61      0.60      0.61        43\n",
            "\n"
          ]
        }
      ]
    },
    {
      "cell_type": "code",
      "source": [
        "# Plot Role Confusion Matrix\n",
        "plt.figure(figsize=(8, 6))\n",
        "sns.heatmap(role_conf_matrix, annot=True, fmt='d', cmap='Blues', cbar=False)\n",
        "plt.title(\"Role Confusion Matrix\")\n",
        "plt.ylabel(\"True Labels\")\n",
        "plt.xlabel(\"Predicted Labels\")\n",
        "plt.show()"
      ],
      "metadata": {
        "colab": {
          "base_uri": "https://localhost:8080/",
          "height": 564
        },
        "id": "FMDkUSnbWlmQ",
        "outputId": "c1fd26d0-16f4-4959-dd79-06999c9e6100"
      },
      "execution_count": null,
      "outputs": [
        {
          "output_type": "display_data",
          "data": {
            "text/plain": [
              "<Figure size 800x600 with 1 Axes>"
            ],
            "image/png": "[encoded data removed]"
          },
          "metadata": {}
        }
      ]
    },
    {
      "cell_type": "code",
      "source": [
        "# Company Predictions\n",
        "company_predictions = company_model.predict(X_company_test)\n",
        "company_accuracy = accuracy_score(np.argmax(Y_company_test, axis=1), company_predictions)\n",
        "company_conf_matrix = confusion_matrix(np.argmax(Y_company_test, axis=1), company_predictions)\n",
        "company_class_report = classification_report(np.argmax(Y_company_test, axis=1), company_predictions)"
      ],
      "metadata": {
        "colab": {
          "base_uri": "https://localhost:8080/"
        },
        "id": "00QJzn16WnrP",
        "outputId": "c9c84d2e-3d61-4524-a727-fc90fa07b06d"
      },
      "execution_count": null,
      "outputs": [
        {
          "output_type": "stream",
          "name": "stderr",
          "text": [
            "/usr/local/lib/python3.10/dist-packages/sklearn/metrics/_classification.py:1531: UndefinedMetricWarning: Precision is ill-defined and being set to 0.0 in labels with no predicted samples. Use `zero_division` parameter to control this behavior.\n",
            "  _warn_prf(average, modifier, f\"{metric.capitalize()} is\", len(result))\n",
            "/usr/local/lib/python3.10/dist-packages/sklearn/metrics/_classification.py:1531: UndefinedMetricWarning: Precision is ill-defined and being set to 0.0 in labels with no predicted samples. Use `zero_division` parameter to control this behavior.\n",
            "  _warn_prf(average, modifier, f\"{metric.capitalize()} is\", len(result))\n",
            "/usr/local/lib/python3.10/dist-packages/sklearn/metrics/_classification.py:1531: UndefinedMetricWarning: Precision is ill-defined and being set to 0.0 in labels with no predicted samples. Use `zero_division` parameter to control this behavior.\n",
            "  _warn_prf(average, modifier, f\"{metric.capitalize()} is\", len(result))\n"
          ]
        }
      ]
    },
    {
      "cell_type": "code",
      "source": [
        "print(f\"\\nCompany Prediction Accuracy: {company_accuracy}\")"
      ],
      "metadata": {
        "colab": {
          "base_uri": "https://localhost:8080/"
        },
        "id": "GLZx9cr6WppN",
        "outputId": "ec9f6483-d4ea-4a99-f4fe-77a3ebed4c75"
      },
      "execution_count": null,
      "outputs": [
        {
          "output_type": "stream",
          "name": "stdout",
          "text": [
            "\n",
            "Company Prediction Accuracy: 0.813953488372093\n"
          ]
        }
      ]
    },
    {
      "cell_type": "code",
      "source": [
        "print(f\"\\nConfusion Matrix for Company Prediction:\\n {company_conf_matrix}\")"
      ],
      "metadata": {
        "colab": {
          "base_uri": "https://localhost:8080/"
        },
        "id": "0z7mKkP9Wr0t",
        "outputId": "a897da53-cda9-4e96-ef87-a7b6cc696adb"
      },
      "execution_count": null,
      "outputs": [
        {
          "output_type": "stream",
          "name": "stdout",
          "text": [
            "\n",
            "Confusion Matrix for Company Prediction:\n",
            " [[1 0 0 ... 0 0 0]\n",
            " [0 1 0 ... 0 0 0]\n",
            " [0 0 1 ... 0 0 0]\n",
            " ...\n",
            " [0 0 0 ... 0 0 0]\n",
            " [0 0 0 ... 0 1 0]\n",
            " [0 0 0 ... 0 0 1]]\n"
          ]
        }
      ]
    },
    {
      "cell_type": "code",
      "source": [
        "print(f\"\\nClassification Report for Company Prediction:\\n {company_class_report}\")"
      ],
      "metadata": {
        "colab": {
          "base_uri": "https://localhost:8080/"
        },
        "id": "DdDodwstWtmK",
        "outputId": "d8f4bcc0-bd88-4547-f295-2c2211f40977"
      },
      "execution_count": null,
      "outputs": [
        {
          "output_type": "stream",
          "name": "stdout",
          "text": [
            "\n",
            "Classification Report for Company Prediction:\n",
            "               precision    recall  f1-score   support\n",
            "\n",
            "           0       1.00      1.00      1.00         1\n",
            "           2       1.00      1.00      1.00         1\n",
            "           6       1.00      1.00      1.00         1\n",
            "           7       0.40      1.00      0.57         2\n",
            "           8       1.00      1.00      1.00         1\n",
            "          12       1.00      1.00      1.00         1\n",
            "          13       1.00      0.50      0.67         2\n",
            "          15       1.00      1.00      1.00         1\n",
            "          16       1.00      1.00      1.00         1\n",
            "          17       1.00      1.00      1.00         2\n",
            "          20       1.00      1.00      1.00         1\n",
            "          22       1.00      1.00      1.00         1\n",
            "          24       1.00      1.00      1.00         1\n",
            "          25       1.00      1.00      1.00         1\n",
            "          26       0.00      0.00      0.00         2\n",
            "          27       1.00      1.00      1.00         1\n",
            "          31       0.00      0.00      0.00         2\n",
            "          32       1.00      1.00      1.00         1\n",
            "          33       0.50      1.00      0.67         2\n",
            "          35       1.00      1.00      1.00         1\n",
            "          36       1.00      1.00      1.00         1\n",
            "          37       1.00      1.00      1.00         2\n",
            "          39       1.00      1.00      1.00         1\n",
            "          40       1.00      0.67      0.80         3\n",
            "          41       0.50      1.00      0.67         1\n",
            "          42       1.00      1.00      1.00         1\n",
            "          45       1.00      1.00      1.00         1\n",
            "          47       1.00      1.00      1.00         1\n",
            "          49       1.00      1.00      1.00         1\n",
            "          50       0.33      1.00      0.50         1\n",
            "          51       0.00      0.00      0.00         2\n",
            "          52       1.00      1.00      1.00         1\n",
            "          53       1.00      1.00      1.00         1\n",
            "\n",
            "    accuracy                           0.81        43\n",
            "   macro avg       0.84      0.88      0.84        43\n",
            "weighted avg       0.78      0.81      0.78        43\n",
            "\n"
          ]
        }
      ]
    },
    {
      "cell_type": "code",
      "source": [
        "# Plot Company Confusion Matrix\n",
        "plt.figure(figsize=(8, 6))\n",
        "sns.heatmap(company_conf_matrix, annot=True, fmt='d', cmap='Greens', cbar=False)\n",
        "plt.title(\"Company Confusion Matrix\")\n",
        "plt.ylabel(\"True Labels\")\n",
        "plt.xlabel(\"Predicted Labels\")\n",
        "plt.show()"
      ],
      "metadata": {
        "colab": {
          "base_uri": "https://localhost:8080/",
          "height": 564
        },
        "id": "I38nAJ_zWvor",
        "outputId": "179f0a7d-dd09-4dde-e826-dc4a0662387b"
      },
      "execution_count": null,
      "outputs": [
        {
          "output_type": "display_data",
          "data": {
            "text/plain": [
              "<Figure size 800x600 with 1 Axes>"
            ],
            "image/png": "[encoded data removed]"
          },
          "metadata": {}
        }
      ]
    },
    {
      "cell_type": "code",
      "source": [
        "# Step 9: Plot ROC and AUC Curve\n",
        "def plot_roc_auc_curve(model, X_test, Y_test, title):\n",
        "    y_proba = model.predict_proba(X_test)\n",
        "    fpr, tpr, _ = roc_curve(np.argmax(Y_test, axis=1), y_proba[:, 1], pos_label=1)\n",
        "    roc_auc = auc(fpr, tpr)\n",
        "\n",
        "    plt.figure(figsize=(8, 6))\n",
        "    plt.plot(fpr, tpr, color='blue', label=f'ROC curve (area = {roc_auc:.2f})')\n",
        "    plt.plot([0, 1], [0, 1], color='grey', linestyle='--')\n",
        "    plt.title(f'{title} ROC Curve')\n",
        "    plt.xlabel('False Positive Rate')\n",
        "    plt.ylabel('True Positive Rate')\n",
        "    plt.legend(loc=\"lower right\")\n",
        "    plt.show()"
      ],
      "metadata": {
        "id": "OiQ0roQaW3UC"
      },
      "execution_count": null,
      "outputs": []
    },
    {
      "cell_type": "code",
      "source": [
        "plot_roc_auc_curve(role_model, X_role_test, Y_role_test, \"Role Prediction\")"
      ],
      "metadata": {
        "colab": {
          "base_uri": "https://localhost:8080/",
          "height": 564
        },
        "id": "7Va4UMpnW4-x",
        "outputId": "1c6fdf18-6e11-4d9b-deab-e0a0d305e4ab"
      },
      "execution_count": null,
      "outputs": [
        {
          "output_type": "display_data",
          "data": {
            "text/plain": [
              "<Figure size 800x600 with 1 Axes>"
            ],
            "image/png": "[encoded data removed]"
          },
          "metadata": {}
        }
      ]
    },
    {
      "cell_type": "code",
      "source": [
        "plot_roc_auc_curve(company_model, X_company_test, Y_company_test, \"Company Prediction\")"
      ],
      "metadata": {
        "colab": {
          "base_uri": "https://localhost:8080/",
          "height": 620
        },
        "id": "sgwc4NhbW6XH",
        "outputId": "c009ae52-0d6c-47a6-a825-204de2db2090"
      },
      "execution_count": null,
      "outputs": [
        {
          "output_type": "stream",
          "name": "stderr",
          "text": [
            "/usr/local/lib/python3.10/dist-packages/sklearn/metrics/_ranking.py:1183: UndefinedMetricWarning: No positive samples in y_true, true positive value should be meaningless\n",
            "  warnings.warn(\n"
          ]
        },
        {
          "output_type": "display_data",
          "data": {
            "text/plain": [
              "<Figure size 800x600 with 1 Axes>"
            ],
            "image/png": "[encoded data removed]"
          },
          "metadata": {}
        }
      ]
    },
    {
      "cell_type": "code",
      "source": [
        "# Step 10: Model Output According to Name\n",
        "def preprocess_input(df, name):\n",
        "    data = df[df['Name'] == name]\n",
        "    if data.empty:\n",
        "        raise ValueError(f\"No data found for the name: {name}\")\n",
        "    X_data = data.drop(['Name', 'Role', 'Company'], axis=1)\n",
        "    return scaler.transform(X_data)"
      ],
      "metadata": {
        "id": "zdwdQFKeW76z"
      },
      "execution_count": null,
      "outputs": []
    },
    {
      "cell_type": "code",
      "source": [
        "def get_top_n_predictions(predictions, target_names, top_n=5):\n",
        "    probs = predictions\n",
        "    top_indices = np.argsort(probs)[-top_n:][::-1]\n",
        "    top_probs = probs[top_indices]\n",
        "    top_names = np.array(target_names)[top_indices]\n",
        "    return list(zip(top_names, top_probs))"
      ],
      "metadata": {
        "id": "v4COcHl5W94o"
      },
      "execution_count": null,
      "outputs": []
    },
    {
      "cell_type": "code",
      "source": [
        "def predict_for_name(df, name, role_model, company_model, ohe_role, ohe_company, top_n=5):\n",
        "    X_data = preprocess_input(df, name)\n",
        "    role_predictions = role_model.predict_proba(X_data)\n",
        "    company_predictions = company_model.predict_proba(X_data)\n",
        "\n",
        "    target_names_role = list(ohe_role.categories_[0])\n",
        "    target_names_company = list(ohe_company.categories_[0])\n",
        "\n",
        "    top_roles = get_top_n_predictions(role_predictions[0], target_names_role, top_n)\n",
        "    top_companies = get_top_n_predictions(company_predictions[0], target_names_company, top_n)\n",
        "\n",
        "    return top_roles, top_companies"
      ],
      "metadata": {
        "id": "nM6UVRdXW_40"
      },
      "execution_count": null,
      "outputs": []
    },
    {
      "cell_type": "code",
      "execution_count": null,
      "metadata": {
        "colab": {
          "base_uri": "https://localhost:8080/"
        },
        "id": "ujMBVBjSUf9j",
        "outputId": "5927d33b-a6e7-4c8b-ae95-443abd4f47dd"
      },
      "outputs": [
        {
          "output_type": "stream",
          "name": "stdout",
          "text": [
            "\n",
            "Top 5 Roles for Basuri Bhujade:\n",
            "Role: Assistant Product Manager, Probability: 1.0000\n",
            "Role: Technology Analyst , Probability: 0.0000\n",
            "Role: Associate Solution Consultant , Probability: 0.0000\n",
            "Role: Data Analyst, Probability: 0.0000\n",
            "Role: Cyber Security Engineer , Probability: 0.0000\n",
            "\n",
            "\n",
            "Top 5 Companies for Basuri Bhujade:\n",
            "Company: Transunioun, Probability: 1.0000\n",
            "Company: Cimpress, Probability: 0.0000\n",
            "Company: FYNDNA TechCorp, Probability: 0.0000\n",
            "Company: Equity Data Science , Probability: 0.0000\n",
            "Company: EmerTech Innovations , Probability: 0.0000\n"
          ]
        }
      ],
      "source": [
        "name = \"Basuri Bhujade\"\n",
        "top_roles, top_companies = predict_for_name(df_og, name, role_model, company_model, ohe_role, ohe_company)\n",
        "\n",
        "print(f\"\\nTop 5 Roles for {name}:\")\n",
        "for role, prob in top_roles:\n",
        "    print(f\"Role: {role}, Probability: {prob:.4f}\")\n",
        "\n",
        "print()\n",
        "print(f\"\\nTop 5 Companies for {name}:\")\n",
        "for company, prob in top_companies:\n",
        "    print(f\"Company: {company}, Probability: {prob:.4f}\")\n"
      ]
    },
    {
      "cell_type": "code",
      "source": [
        "def predict_combined(name, top_n):\n",
        "    top_roles, top_companies = predict_for_name(df_og, name, role_model, company_model, ohe_role, ohe_company)\n",
        "\n",
        "    # Multiply Role and Company Probabilities\n",
        "    combined_predictions = []\n",
        "    for role, role_prob in top_roles:\n",
        "        for company, company_prob in top_companies:\n",
        "            combined_prob = role_prob * company_prob  # Multiply probabilities\n",
        "            combined_predictions.append((role, company, combined_prob))\n",
        "\n",
        "    # Sort combined predictions by probability in descending order\n",
        "    combined_predictions.sort(key=lambda x: x[2], reverse=True)\n",
        "\n",
        "    return combined_predictions[:top_n]"
      ],
      "metadata": {
        "id": "q98XyurLTQYJ"
      },
      "execution_count": null,
      "outputs": []
    },
    {
      "cell_type": "code",
      "source": [
        "# Example usage:\n",
        "name = \"Basuri Bhujade\"  # Replace with an actual name from your dataset\n",
        "try:\n",
        "    top_predictions = predict_combined(name, top_n=5)\n",
        "\n",
        "    print(f\"\\nTop 5 Predicted Roles and Companies with Multiplied Probabilities for {name}:\")\n",
        "    idx = 1\n",
        "    for role, company, prob in top_predictions:\n",
        "        print(f\"{idx}) {role}, {company}, Probability: {prob:.4f}\")\n",
        "        idx += 1\n",
        "\n",
        "except ValueError as e:\n",
        "    print(e)"
      ],
      "metadata": {
        "colab": {
          "base_uri": "https://localhost:8080/"
        },
        "id": "kimqvGgFTatw",
        "outputId": "b0a93265-02b5-402e-e026-84cb488daf72"
      },
      "execution_count": null,
      "outputs": [
        {
          "output_type": "stream",
          "name": "stdout",
          "text": [
            "\n",
            "Top 5 Predicted Roles and Companies with Multiplied Probabilities for Basuri Bhujade:\n",
            "1) Assistant Product Manager, Transunioun, Probability: 1.0000\n",
            "2) Assistant Product Manager, Cimpress, Probability: 0.0000\n",
            "3) Assistant Product Manager, FYNDNA TechCorp, Probability: 0.0000\n",
            "4) Assistant Product Manager, Equity Data Science , Probability: 0.0000\n",
            "5) Assistant Product Manager, EmerTech Innovations , Probability: 0.0000\n"
          ]
        }
      ]
    },
    {
      "cell_type": "code",
      "source": [
        "# Save the trained models\n",
        "joblib.dump(role_model, '/content/role_model.pkl')\n",
        "joblib.dump(company_model, '/content/company_model.pkl')"
      ],
      "metadata": {
        "id": "94P2EWEXXoD-",
        "colab": {
          "base_uri": "https://localhost:8080/"
        },
        "outputId": "55c48375-667c-4ed2-cbb8-150c2917deb1"
      },
      "execution_count": null,
      "outputs": [
        {
          "output_type": "execute_result",
          "data": {
            "text/plain": [
              "['/content/company_model.pkl']"
            ]
          },
          "metadata": {},
          "execution_count": 41
        }
      ]
    },
    {
      "cell_type": "code",
      "source": [],
      "metadata": {
        "id": "KPB9Vn3o37NI"
      },
      "execution_count": null,
      "outputs": []
    }
  ]
}